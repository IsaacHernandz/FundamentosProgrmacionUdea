{
 "cells": [
  {
   "cell_type": "markdown",
   "id": "9fe8ecca",
   "metadata": {},
   "source": [
    "# Juego de Dados Secretos - Simulación\n",
    "\n",
    "# Isaac Hernandez Restrepo\n",
    "                                        **Juego de Dados Secretos** \n",
    "\n",
    "---\n",
    "\n",
    "## 1. Clase `Jugador`\n",
    "\n",
    "Cada jugador tiene:\n",
    "- Un nombre.  \n",
    "- Una lista con sus dados.  \n",
    "- Un método para tirar los dados y obtener resultados aleatorios entre 1 y 6."
   ]
  },
  {
   "cell_type": "code",
   "execution_count": 8,
   "id": "277140fb",
   "metadata": {},
   "outputs": [],
   "source": [
    "import random\n",
    "\n",
    "class Jugador:\n",
    "    def __init__(self, nombre):\n",
    "        self.nombre = nombre\n",
    "        self.dados = []\n",
    "\n",
    "    def tirar_dados(self, num_dados=5):\n",
    "        # Genera números aleatorios entre 1 y 6\n",
    "        self.dados = [random.randint(1, 6) for _ in range(num_dados)]\n"
   ]
  },
  {
   "cell_type": "markdown",
   "id": "4ca7bfb8",
   "metadata": {},
   "source": [
    "---\n",
    "\n",
    "## 2. Clase `JuegoDados`\n",
    "\n",
    "Esta clase se encarga de:\n",
    "- Crear varios jugadores.  \n",
    "- Hacer que todos los jugadores tiren sus dados.  \n",
    "- Contar cuántos dados con un valor específico hay en toda la mesa."
   ]
  },
  {
   "cell_type": "code",
   "execution_count": 9,
   "id": "c3943526",
   "metadata": {},
   "outputs": [],
   "source": [
    "class JuegoDados:\n",
    "    def __init__(self, num_jugadores=3, dados_por_jugador=5):\n",
    "        self.num_jugadores = num_jugadores\n",
    "        self.dados_por_jugador = dados_por_jugador\n",
    "        self.jugadores = [Jugador(f\"Jugador {i+1}\") for i in range(num_jugadores)]\n",
    "    def tirar_todos(self):\n",
    "        for jugador in self.jugadores:\n",
    "            jugador.tirar_dados(self.dados_por_jugador)\n",
    "    def contar_valor(self, valor):\n",
    "        total = 0\n",
    "        for jugador in self.jugadores:\n",
    "            total += jugador.dados.count(valor)\n",
    "        return total"
   ]
  },
  {
   "cell_type": "markdown",
   "id": "b39473eb",
   "metadata": {},
   "source": [
    "---\n",
    "\n",
    "## 3. Función de Simulación\n",
    "\n",
    "Esta función usa el método de **Monte Carlo**:\n",
    "- Repite el juego muchas veces.  \n",
    "- En cada repetición, todos los jugadores lanzan sus dados.  \n",
    "- Se evalúa una afirmación (ej: \"hay X dados con el valor Y\").  \n",
    "- Calcula cuántas veces la afirmación es falsa y aproxima la **probabilidad de falsedad**.\n",
    "python\n",
    "Copiar\n",
    "Editar\n"
   ]
  },
  {
   "cell_type": "code",
   "execution_count": null,
   "id": "b34d1005",
   "metadata": {},
   "outputs": [],
   "source": [
    "def probabilidad_falso(num_jugadores, num_dados, estimacion, valor, repeticiones=10000):\n",
    "    falsos = 0\n",
    "    juego = JuegoDados(num_jugadores, num_dados)\n",
    "    for _ in range(repeticiones):\n",
    "        juego.tirar_todos()\n",
    "        total_valor = juego.contar_valor(valor)\n",
    "        if total_valor < estimacion:\n",
    "            falsos += 1\n",
    "    return falsos / repeticiones"
   ]
  },
  {
   "cell_type": "markdown",
   "id": "d6623122",
   "metadata": {},
   "source": [
    "### 4. Método constructor  \n",
    "\n",
    "Aquí juntamos todo: creamos el juego, hacemos la apuesta y calculamos la probabilidad.  "
   ]
  },
  {
   "cell_type": "code",
   "execution_count": 13,
   "id": "84c9275c",
   "metadata": {},
   "outputs": [
    {
     "name": "stdout",
     "output_type": "stream",
     "text": [
      "=== 🎲 Juego de Dados Secretos ===\n",
      "Existen 3 jugadores, cada uno con 5 dados de 6 lados.\n",
      "Cada jugador revuelve y tira sus dados, pero solo puede ver los suyos.\n",
      "👉 En su turno, un jugador asegura: \"Hay al menos 4 dados con valor 3 en toda la mesa.\"\n",
      "El jugador retado debe decidir si la afirmación es falsa o si puede ser cierta.\n",
      "\n",
      "=== 📊 Resultado de la simulación ===\n",
      "La probabilidad de que el retador esté MINTIENDO es: 0.77\n"
     ]
    }
   ],
   "source": [
    "# === Escenario del juego ===\n",
    "num_jugadores = 3      # Número de jugadores en la mesa\n",
    "num_dados = 5          # Cada jugador tiene 5 dados\n",
    "valor_reclamado = 3    # El número de dado que el jugador menciona\n",
    "cantidad_reclamada = 4 # La cantidad que asegura que aparece en la mesa\n",
    "\n",
    "print(\"=== 🎲 Juego de Dados Secretos ===\")\n",
    "print(f\"Existen {num_jugadores} jugadores, cada uno con {num_dados} dados de 6 lados.\")\n",
    "print(\"Cada jugador revuelve y tira sus dados, pero solo puede ver los suyos.\")\n",
    "print(f\"👉 En su turno, un jugador asegura: \\\"Hay al menos {cantidad_reclamada} dados con valor {valor_reclamado} en toda la mesa.\\\"\")\n",
    "print(\"El jugador retado debe decidir si la afirmación es falsa o si puede ser cierta.\\n\")\n",
    "\n",
    "# === Simulación Monte Carlo ===\n",
    "p_falso = probabilidad_falso(\n",
    "    num_jugadores=num_jugadores,\n",
    "    num_dados=num_dados,\n",
    "    estimacion=cantidad_reclamada,\n",
    "    valor=valor_reclamado\n",
    ")\n",
    "\n",
    "# === Resultado de la simulación ===\n",
    "print(\"=== 📊 Resultado de la simulación ===\")\n",
    "print(f\"La probabilidad de que el retador esté MINTIENDO es: {p_falso:.2f}\")"
   ]
  }
 ],
 "metadata": {
  "kernelspec": {
   "display_name": "Python 3",
   "language": "python",
   "name": "python3"
  },
  "language_info": {
   "codemirror_mode": {
    "name": "ipython",
    "version": 3
   },
   "file_extension": ".py",
   "mimetype": "text/x-python",
   "name": "python",
   "nbconvert_exporter": "python",
   "pygments_lexer": "ipython3",
   "version": "3.11.5"
  }
 },
 "nbformat": 4,
 "nbformat_minor": 5
}
