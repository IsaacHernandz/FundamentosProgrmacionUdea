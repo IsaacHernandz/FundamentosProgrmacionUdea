{
 "cells": [
  {
   "cell_type": "markdown",
   "id": "9fe8ecca",
   "metadata": {},
   "source": [
    "# Juego de Dados Secretos - Simulación\n",
    "\n",
    "# Isaac Hernandez Restrepo\n",
    "                                        **Juego de Dados Secretos** \n",
    "\n",
    "---\n",
    "\n",
    "## 1. Clase JuegoDados\n",
    "\n",
    "Cada jugador está representado como un diccionario dentro de la clase principal JuegoDados.\n",
    "La clase contiene:\n",
    "\n",
    "Número de jugadores.\n",
    "\n",
    "Número de dados por jugador.\n",
    "\n",
    "Una lista con los jugadores y sus dados.\n",
    "\n",
    "Métodos para simular tiradas, mostrar resultados y calcular probabilidades."
   ]
  },
  {
   "cell_type": "code",
   "execution_count": 7,
   "id": "277140fb",
   "metadata": {},
   "outputs": [
    {
     "name": "stdout",
     "output_type": "stream",
     "text": [
      "Jugador 1: [6, 3, 5, 5, 1]\n",
      "Jugador 2: [3, 2, 3, 1, 2]\n",
      "Jugador 3: [5, 5, 3, 1, 2]\n",
      "Jugador 4: [2, 6, 6, 4, 4]\n",
      "Jugador 5: [2, 1, 6, 5, 6]\n",
      "Jugador 6: [5, 3, 2, 2, 4]\n",
      "Jugador 7: [6, 1, 6, 5, 4]\n",
      "\n",
      "Jugador 1 declara: 'Hay al menos 8 dados con valor 5.'\n",
      "Jugador 2 ve sus dados: [3, 2, 3, 1, 2]\n",
      "Probabilidad de que la declaración sea falsa: 88.66%\n"
     ]
    }
   ],
   "source": [
    "import random\n",
    "\n",
    "def tirar_dados(num_jugadores=7, dados_por_jugador=5):\n",
    "    return [[random.randint(1, 6) for _ in range(dados_por_jugador)] for _ in range(num_jugadores)]\n",
    "\n",
    "def mostrar_dados(jugadores):\n",
    "    for i, dados in enumerate(jugadores, start=1):\n",
    "        print(f\"Jugador {i}: {dados}\")\n",
    "\n",
    "def probabilidad_falso(jugadores, declarante_idx, retado_idx, valor, cantidad, repeticiones=5000):\n",
    "    num_jugadores = len(jugadores)\n",
    "    dados_por_jugador = len(jugadores[0])\n",
    "    max_dados = num_jugadores * dados_por_jugador\n",
    "\n",
    "    visibles = jugadores[retado_idx].count(valor)\n",
    "    if cantidad <= visibles:\n",
    "        return 0.0  # nunca sería falso\n",
    "\n",
    "    dados_ocultos = max_dados - dados_por_jugador\n",
    "    falsos = 0\n",
    "\n",
    "    for _ in range(repeticiones):\n",
    "        ocultos = [random.randint(1, 6) for _ in range(dados_ocultos)]\n",
    "        total_valor = visibles + ocultos.count(valor)\n",
    "        if total_valor < cantidad:\n",
    "            falsos += 1\n",
    "\n",
    "    return falsos / repeticiones\n",
    "\n",
    "\n",
    "# ---- Juego ----\n",
    "jugadores = tirar_dados()\n",
    "mostrar_dados(jugadores)\n",
    "\n",
    "declarante_idx = 0\n",
    "retado_idx = 1\n",
    "valor_reclamado = random.randint(1, 6)\n",
    "cantidad_reclamada = random.randint(1, 10)\n",
    "\n",
    "print(f\"\\nJugador {declarante_idx+1} declara: 'Hay al menos {cantidad_reclamada} dados con valor {valor_reclamado}.'\")\n",
    "print(f\"Jugador {retado_idx+1} ve sus dados: {jugadores[retado_idx]}\")\n",
    "\n",
    "p_falso = probabilidad_falso(jugadores, declarante_idx, retado_idx, valor_reclamado, cantidad_reclamada)\n",
    "print(f\"Probabilidad de que la declaración sea falsa: {p_falso:.2%}\")\n",
    "\n"
   ]
  },
  {
   "cell_type": "markdown",
   "id": "ff9da224",
   "metadata": {},
   "source": [
    "### Ejercicio: Recorrer un tablero de parqués\n",
    "\n",
    "Este programa simula un juego de parqués con:\n",
    "- **N jugadores**, cada uno con **M fichas**.  \n",
    "- La salida de la cárcel es automática.  \n",
    "- El turno de cada jugador consiste en lanzar un dado (1–6) y avanzar una de sus fichas.  \n",
    "- El juego termina cuando un jugador logra llevar todas sus fichas a la meta.  \n",
    "\n",
    "El programa muestra cuántos turnos tomó el juego en terminar y quién fue el ganador."
   ]
  },
  {
   "cell_type": "code",
   "execution_count": null,
   "id": "14a339bf",
   "metadata": {},
   "outputs": [
    {
     "name": "stdout",
     "output_type": "stream",
     "text": [
      "El juego terminó en 37 turnos.\n",
      "El ganador fue el Jugador 1.\n"
     ]
    }
   ],
   "source": [
    "import random\n",
    "# Parámetros del juego\n",
    "N = 3        # Número de jugadores\n",
    "M = 2        # Fichas por jugador\n",
    "META = 20    # Casillas necesarias para ganar\n",
    "\n",
    "estado = [[0 for _ in range(M)] for _ in range(N)]\n",
    "ganador = None\n",
    "turnos = 0\n",
    "turno_jugador = 0\n",
    "#\n",
    "while ganador is None:\n",
    "    # El jugador actual juega\n",
    "    fichas_disponibles = [i for i, pos in enumerate(estado[turno_jugador]) if pos < META]\n",
    "    if fichas_disponibles:\n",
    "        ficha = random.choice(fichas_disponibles)  # elige una ficha al azar\n",
    "        avance = random.randint(1, 6)              # tira el dado\n",
    "        estado[turno_jugador][ficha] += avance\n",
    "    # Verificar si ya ganó este jugador\n",
    "    if all(pos >= META for pos in estado[turno_jugador]):\n",
    "        ganador = turno_jugador\n",
    "    else:\n",
    "        # Pasar al siguiente jugador\n",
    "        turno_jugador = (turno_jugador + 1) % N\n",
    "\n",
    "    turnos += 1\n",
    "\n",
    "print(f\"El juego terminó en {turnos} turnos.\")\n",
    "print(f\"El ganador fue el Jugador {ganador + 1}.\")"
   ]
  }
 ],
 "metadata": {
  "kernelspec": {
   "display_name": "Python 3",
   "language": "python",
   "name": "python3"
  },
  "language_info": {
   "codemirror_mode": {
    "name": "ipython",
    "version": 3
   },
   "file_extension": ".py",
   "mimetype": "text/x-python",
   "name": "python",
   "nbconvert_exporter": "python",
   "pygments_lexer": "ipython3",
   "version": "3.11.5"
  }
 },
 "nbformat": 4,
 "nbformat_minor": 5
}
