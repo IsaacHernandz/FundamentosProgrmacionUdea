{
 "cells": [
  {
   "cell_type": "markdown",
   "id": "419b2648",
   "metadata": {},
   "source": [
    "---\n",
    "\n",
    "## Ejercicio 6. https://www.hackerrank.com/challenges/pangrams/problem\n"
   ]
  },
  {
   "cell_type": "code",
   "execution_count": null,
   "id": "47ef01ab",
   "metadata": {},
   "outputs": [
    {
     "name": "stdout",
     "output_type": "stream",
     "text": [
      "La oracion evaluada fue: El rápido zorro marrón salta sobre el perro perezoso\n",
      "Resultado: not pangram\n"
     ]
    }
   ],
   "source": [
    "import os\n",
    "\n",
    "def es_pangrama(texto):\n",
    "    letras = {c for c in texto.lower() if 'a' <= c <= 'z'}\n",
    "    return \"pangram\" if len(letras) == 26 else \"not pangram\"\n",
    "if __name__ == '__main__':\n",
    "    # Oración fija a evaluar\n",
    "    oracion = \"El rápido zorro marrón salta sobre el perro perezoso\"\n",
    "    # Carpeta Descargas del usuario\n",
    "    carpeta_descargas = os.path.join(os.path.expanduser(\"~\"), \"Downloads\")\n",
    "    archivo_salida = os.path.join(carpeta_descargas, \"resultado_pangrama.txt\")\n",
    "    # Evaluar si es pangrama\n",
    "    resultado = es_pangrama(oracion)\n",
    "    # Guardar oración y resultado en archivo\n",
    "    with open(archivo_salida, \"w\", encoding=\"utf-8\") as f:\n",
    "        f.write(f\"Oracion: {oracion}\\n\")\n",
    "        f.write(f\"Resultado: {resultado}\\n\")\n",
    "    # Imprimir resultado en consola\n",
    "    print(f\"La oracion evaluada fue: {oracion}\")\n",
    "    print(f\"Resultado: {resultado}\")"
   ]
  },
  {
   "cell_type": "markdown",
   "id": "27eafc80",
   "metadata": {},
   "source": [
    "---\n",
    "\n",
    "## 9. https://www.hackerrank.com/challenges/diagonal-difference/problem"
   ]
  },
  {
   "cell_type": "code",
   "execution_count": null,
   "id": "09883dde",
   "metadata": {},
   "outputs": [
    {
     "name": "stdout",
     "output_type": "stream",
     "text": [
      "Matriz evaluada:\n",
      "[11, 2, 4]\n",
      "[4, 5, 6]\n",
      "[10, 8, -12]\n",
      "\n",
      "Diferencia de diagonales: 15\n"
     ]
    }
   ],
   "source": [
    "def diferencia_diagonal(arr):\n",
    "    n = len(arr)\n",
    "    suma_principal = 0\n",
    "    suma_secundaria = 0 \n",
    "    for i in range(n):\n",
    "        suma_principal += arr[i][i]              # Diagonal principal\n",
    "        suma_secundaria += arr[i][n - 1 - i]     # Diagonal secundaria  \n",
    "    return abs(suma_principal - suma_secundaria)\n",
    "\n",
    "if __name__ == '__main__':\n",
    "    # Matriz fija de 3x3\n",
    "    matriz = [[11, 2, 4],[4, 5, 6],[10, 8, -12]]\n",
    "    # Calcular diferencia\n",
    "    resultado = diferencia_diagonal(matriz)\n",
    "    # Mostrar en consola\n",
    "    print(\"Matriz evaluada:\")\n",
    "    for fila in matriz:\n",
    "        print(fila)\n",
    "    print(f\"\\nDiferencia de diagonales: {resultado}\")\n",
    "\n"
   ]
  },
  {
   "cell_type": "markdown",
   "id": "dd70fd1f",
   "metadata": {},
   "source": [
    "---\n",
    "\n",
    "## 12. https://www.hackerrank.com/challenges/icecream-parlor/problem"
   ]
  },
  {
   "cell_type": "code",
   "execution_count": null,
   "id": "3a9e52ae",
   "metadata": {},
   "outputs": [
    {
     "name": "stdout",
     "output_type": "stream",
     "text": [
      "1 4\n",
      "1 2\n"
     ]
    }
   ],
   "source": [
    "import os\n",
    "\n",
    "def icecreamParlor(m, arr):\n",
    "    seen = {}\n",
    "    for i, price in enumerate(arr):\n",
    "        diff = m - price\n",
    "        if diff in seen:\n",
    "            return [seen[diff] + 1, i + 1]\n",
    "        seen[price] = i\n",
    "\n",
    "if __name__ == '__main__':\n",
    "    # Detectar carpeta Descargas (Windows en español) o Downloads (Linux/Mac/Windows inglés)\n",
    "    user_home = os.path.expanduser(\"~\")\n",
    "    downloads_es = os.path.join(user_home, \"Descargas\")\n",
    "    downloads_path =  os.path.exists(downloads_es)\n",
    "    os.makedirs(downloads_path, exist_ok=True)\n",
    "    output_file = os.path.join(downloads_path, \"resultado.txt\")\n",
    "\n",
    "    # Datos de ejemplo (los mismos del enunciado)\n",
    "    casos = [\n",
    "        {\"m\": 4,\"n\": 5,\"arr\": [1, 4, 5, 3, 2]},\n",
    "        {\"m\": 4,\"n\": 4,\"arr\": [2, 2, 4, 3]}]\n",
    "\n",
    "    with open(output_file, \"w\") as fptr:\n",
    "        for caso in casos:\n",
    "            result = icecreamParlor(caso[\"m\"], caso[\"arr\"])\n",
    "            # Guardar en archivo\n",
    "            fptr.write(' '.join(map(str, result)))\n",
    "            fptr.write('\\n')\n",
    "            # Mostrar en pantalla\n",
    "            print(' '.join(map(str, result)))"
   ]
  },
  {
   "cell_type": "markdown",
   "id": "931a55b0",
   "metadata": {},
   "source": [
    "---\n",
    "## 20. https://www.hackerrank.com/challenges/weighted-uniform-string/problem\n"
   ]
  },
  {
   "cell_type": "code",
   "execution_count": null,
   "id": "db7cd86c",
   "metadata": {},
   "outputs": [
    {
     "name": "stdout",
     "output_type": "stream",
     "text": [
      "Cadena: abccba\n",
      "Queries: [1, 3, 9, 10, 12]\n",
      "Resultados:\n",
      "Yes\n",
      "Yes\n",
      "No\n",
      "No\n",
      "No\n"
     ]
    }
   ],
   "source": [
    "def weightedUniformStrings(s, queries):\n",
    "    weights = set()\n",
    "    prev_char = ''\n",
    "    current_weight = 0\n",
    "\n",
    "    for ch in s:\n",
    "        value = ord(ch) - ord('a') + 1\n",
    "        if ch == prev_char:\n",
    "            current_weight += value\n",
    "        else:\n",
    "            current_weight = value\n",
    "            prev_char = ch\n",
    "        weights.add(current_weight)\n",
    "\n",
    "    return [\"Yes\" if q in weights else \"No\" for q in queries]\n",
    "\n",
    "\n",
    "if __name__ == '__main__':\n",
    "    s = \"abccba\"\n",
    "    queries = [1, 3, 9, 10, 12]\n",
    "    # Ejecutar función\n",
    "    result = weightedUniformStrings(s, queries)\n",
    "    # Print de los resultados\n",
    "    print(\"Cadena:\", s)\n",
    "    print(\"Queries:\", queries)\n",
    "    print(\"Resultados:\")\n",
    "    print(\"\\n\".join(result))\n"
   ]
  },
  {
   "cell_type": "markdown",
   "id": "cc1874c0",
   "metadata": {},
   "source": [
    "---\n",
    "## 17. https://www.hackerrank.com/challenges/a-chessboard-game-1/problem"
   ]
  },
  {
   "cell_type": "code",
   "execution_count": null,
   "id": "9b927008",
   "metadata": {},
   "outputs": [
    {
     "name": "stdout",
     "output_type": "stream",
     "text": [
      "Second\n",
      "First\n",
      "First\n"
     ]
    }
   ],
   "source": [
    "def chessboardGame(x, y):\n",
    "    if (x % 4 in (1, 2)) and (y % 4 in (1, 2)):\n",
    "        return \"Second\"\n",
    "    else:\n",
    "        return \"First\"\n",
    "    \n",
    "if __name__ == '__main__':\n",
    "    # Valores de entrada ya definidos\n",
    "    test_cases = [\n",
    "        (5, 2),(5, 3),(8, 8)]\n",
    "    # Ejecutar y printear resultados\n",
    "    for x, y in test_cases:\n",
    "        print(chessboardGame(x, y))\n"
   ]
  }
 ],
 "metadata": {
  "kernelspec": {
   "display_name": "Python 3",
   "language": "python",
   "name": "python3"
  },
  "language_info": {
   "codemirror_mode": {
    "name": "ipython",
    "version": 3
   },
   "file_extension": ".py",
   "mimetype": "text/x-python",
   "name": "python",
   "nbconvert_exporter": "python",
   "pygments_lexer": "ipython3",
   "version": "3.11.5"
  }
 },
 "nbformat": 4,
 "nbformat_minor": 5
}
