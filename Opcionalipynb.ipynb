{
 "cells": [
  {
   "cell_type": "markdown",
   "id": "9fe8ecca",
   "metadata": {},
   "source": [
    "# Juego de Dados Secretos - Simulación\n",
    "\n",
    "# Isaac Hernandez Restrepo\n",
    "                                        **Juego de Dados Secretos** \n",
    "\n",
    "---\n",
    "\n",
    "## 1. Clase JuegoDados\n",
    "\n",
    "Cada jugador está representado como un diccionario dentro de la clase principal JuegoDados.\n",
    "La clase contiene:\n",
    "\n",
    "Número de jugadores.\n",
    "\n",
    "Número de dados por jugador.\n",
    "\n",
    "Una lista con los jugadores y sus dados.\n",
    "\n",
    "Métodos para simular tiradas, mostrar resultados y calcular probabilidades."
   ]
  },
  {
   "cell_type": "code",
   "execution_count": 1,
   "id": "277140fb",
   "metadata": {},
   "outputs": [],
   "source": [
    "import random\n",
    "\n",
    "class JuegoDados:\n",
    "    def __init__(self, num_jugadores=7, dados_por_jugador=5):\n",
    "        self.num_jugadores = num_jugadores\n",
    "        self.dados_por_jugador = dados_por_jugador\n",
    "        self.jugadores = [{\"nombre\": f\"Jugador {i+1}\", \"dados\": []} for i in range(num_jugadores)]\n",
    "        \n",
    "    def tirar_todos(self):\n",
    "        \"\"\"Cada jugador tira sus dados aleatoriamente\"\"\"\n",
    "        for jugador in self.jugadores:\n",
    "            jugador[\"dados\"] = [random.randint(1, 6) for _ in range(self.dados_por_jugador)]\n",
    "\n",
    "    def mostrar_todos(self):\n",
    "        for jugador in self.jugadores:\n",
    "            print(f\"{jugador['nombre']}: {jugador['dados']}\")\n",
    "\n",
    "    def probabilidad_falso(self, declarante_idx, retado_idx, valor, cantidad, repeticiones=10000):\n",
    "        if valor < 1 or valor > 6:\n",
    "            return 1.0\n",
    "        max_dados = self.num_jugadores * self.dados_por_jugador\n",
    "        if cantidad > max_dados:\n",
    "            cantidad = max_dados\n",
    "        if cantidad <= 0:\n",
    "            return 0.0\n",
    "        retado = self.jugadores[retado_idx]\n",
    "        visibles = retado[\"dados\"].count(valor)\n",
    "        if cantidad <= visibles:\n",
    "            return 0.0\n",
    "        dados_ocultos = max_dados - len(retado[\"dados\"])\n",
    "        falsos = 0\n",
    "        for _ in range(repeticiones):\n",
    "            ocultos = [random.randint(1, 6) for _ in range(dados_ocultos)]\n",
    "            total_valor = visibles + ocultos.count(valor)\n",
    "            if total_valor < cantidad:\n",
    "                falsos += 1\n",
    "        return falsos / repeticiones\n"
   ]
  },
  {
   "cell_type": "markdown",
   "id": "d6623122",
   "metadata": {},
   "source": [
    "### 4. Método constructor  \n",
    "\n",
    "Aquí juntamos todo: creamos el juego, hacemos la apuesta y calculamos la probabilidad.  "
   ]
  },
  {
   "cell_type": "code",
   "execution_count": 8,
   "id": "84c9275c",
   "metadata": {},
   "outputs": [
    {
     "name": "stdout",
     "output_type": "stream",
     "text": [
      "Jugador 1: [3, 6, 6, 5, 6]\n",
      "Jugador 2: [6, 3, 3, 2, 1]\n",
      "Jugador 3: [1, 1, 6, 4, 1]\n",
      "Jugador 4: [4, 6, 1, 4, 3]\n",
      "Jugador 5: [6, 1, 6, 4, 2]\n",
      "Jugador 6: [5, 3, 1, 5, 2]\n",
      "Jugador 7: [1, 5, 3, 4, 3]\n",
      "\n",
      "Jugador 1 declara: 'Hay al menos 10 dados con valor 6.'\n",
      "Jugador 2 ve sus dados: [6, 3, 3, 2, 1]\n",
      "Probabilidad de que la declaración sea falsa: 95.21%\n"
     ]
    }
   ],
   "source": [
    "juego = JuegoDados(num_jugadores=7, dados_por_jugador=5)\n",
    "juego.tirar_todos()\n",
    "juego.mostrar_todos()\n",
    "\n",
    "# Jugador 1 declara contra Jugador 2\n",
    "declarante_idx = 0\n",
    "retado_idx = 1\n",
    "\n",
    "valor_reclamado = random.randint(1, 6)   # el valor que el declarante cree que hay\n",
    "cantidad_reclamada = random.randint(1, 10)  # cantidad que declara (puede ajustarse)\n",
    "\n",
    "print(f\"\\n{juego.jugadores[declarante_idx]['nombre']} declara: \"\n",
    "      f\"'Hay al menos {cantidad_reclamada} dados con valor {valor_reclamado}.'\")\n",
    "print(f\"{juego.jugadores[retado_idx]['nombre']} ve sus dados: {juego.jugadores[retado_idx]['dados']}\")\n",
    "\n",
    "# Calcular probabilidad de falso según lo que ve el jugador retado\n",
    "p_falso = juego.probabilidad_falso(declarante_idx, retado_idx, valor_reclamado, cantidad_reclamada)\n",
    "print(f\"Probabilidad de que la declaración sea falsa: {p_falso:.2%}\")"
   ]
  },
  {
   "cell_type": "markdown",
   "id": "ff9da224",
   "metadata": {},
   "source": [
    "### Ejercicio: Recorrer un tablero de parqués\n",
    "\n",
    "Este programa simula un juego de parqués con:\n",
    "- **N jugadores**, cada uno con **M fichas**.  \n",
    "- La salida de la cárcel es automática.  \n",
    "- El turno de cada jugador consiste en lanzar un dado (1–6) y avanzar una de sus fichas.  \n",
    "- El juego termina cuando un jugador logra llevar todas sus fichas a la meta.  \n",
    "\n",
    "El programa muestra cuántos turnos tomó el juego en terminar y quién fue el ganador."
   ]
  },
  {
   "cell_type": "code",
   "execution_count": null,
   "id": "14a339bf",
   "metadata": {},
   "outputs": [
    {
     "name": "stdout",
     "output_type": "stream",
     "text": [
      "El juego terminó en 37 turnos.\n",
      "El ganador fue el Jugador 1.\n"
     ]
    }
   ],
   "source": [
    "import random\n",
    "# Parámetros del juego\n",
    "N = 3        # Número de jugadores\n",
    "M = 2        # Fichas por jugador\n",
    "META = 20    # Casillas necesarias para ganar\n",
    "# Estado inicial: cada jugador tiene M fichas en la posición 0\n",
    "estado = [[0 for _ in range(M)] for _ in range(N)]\n",
    "ganador = None\n",
    "turnos = 0\n",
    "turno_jugador = 0\n",
    "# Simulación\n",
    "while ganador is None:\n",
    "    # El jugador actual juega\n",
    "    fichas_disponibles = [i for i, pos in enumerate(estado[turno_jugador]) if pos < META]\n",
    "    if fichas_disponibles:\n",
    "        ficha = random.choice(fichas_disponibles)  # elige una ficha al azar\n",
    "        avance = random.randint(1, 6)              # tira el dado\n",
    "        estado[turno_jugador][ficha] += avance\n",
    "    # Verificar si ya ganó este jugador\n",
    "    if all(pos >= META for pos in estado[turno_jugador]):\n",
    "        ganador = turno_jugador\n",
    "    else:\n",
    "        # Pasar al siguiente jugador\n",
    "        turno_jugador = (turno_jugador + 1) % N\n",
    "\n",
    "    turnos += 1\n",
    "# Resultados\n",
    "print(f\"El juego terminó en {turnos} turnos.\")\n",
    "print(f\"El ganador fue el Jugador {ganador + 1}.\")"
   ]
  }
 ],
 "metadata": {
  "kernelspec": {
   "display_name": "Python 3",
   "language": "python",
   "name": "python3"
  },
  "language_info": {
   "codemirror_mode": {
    "name": "ipython",
    "version": 3
   },
   "file_extension": ".py",
   "mimetype": "text/x-python",
   "name": "python",
   "nbconvert_exporter": "python",
   "pygments_lexer": "ipython3",
   "version": "3.11.5"
  }
 },
 "nbformat": 4,
 "nbformat_minor": 5
}
