{
 "cells": [
  {
   "cell_type": "code",
   "execution_count": null,
   "id": "aefea5ea",
   "metadata": {},
   "outputs": [],
   "source": [
    "import time\n",
    "import requests\n",
    "import aiohttp\n",
    "import asyncio\n",
    "from concurrent.futures import ThreadPoolExecutor\n",
    "import multiprocessing as mp\n",
    "\n",
    "# ------------------------------\n",
    "# Función de descarga (común a todos)\n",
    "# ------------------------------\n",
    "def download_image(url, filename):\n",
    "    resp = requests.get(url, timeout=10)  # máximo 10 seg por request\n",
    "    with open(filename, \"wb\") as f:\n",
    "        f.write(resp.content)\n",
    "    return f\"{filename} descargada\"\n",
    "# Lista de imágenes (ejemplo)\n",
    "IMAGES = [\n",
    "    \"https://atlnacional.com.co/wp-content/webp-express/webp-images/uploads/2022/02/Mascota.jpg.webp\",    \n",
    "\n",
    "]\n"
   ]
  },
  {
   "cell_type": "code",
   "execution_count": 8,
   "id": "ce7874d9",
   "metadata": {},
   "outputs": [],
   "source": [
    "# ------------------------------\n",
    "# Multiprocessing\n",
    "# ------------------------------\n",
    "def download_with_multiprocessing():\n",
    "    with mp.get_context(\"spawn\").Pool() as pool:\n",
    "        results = pool.starmap(\n",
    "            download_image,\n",
    "            zip(IMAGES, [f\"mp_{i}.jpg\" for i in range(len(IMAGES))])\n",
    "        )\n",
    "    return results\n"
   ]
  },
  {
   "cell_type": "code",
   "execution_count": 9,
   "id": "906cb679",
   "metadata": {},
   "outputs": [],
   "source": [
    "# ------------------------------\n",
    "# Threading\n",
    "# ------------------------------\n",
    "def download_with_threads():\n",
    "    with ThreadPoolExecutor() as executor:\n",
    "        results = list(executor.map(\n",
    "            download_image,\n",
    "            IMAGES,\n",
    "            [f\"th_{i}.jpg\" for i in range(len(IMAGES))]\n",
    "        ))\n",
    "    return results"
   ]
  },
  {
   "cell_type": "code",
   "execution_count": 10,
   "id": "3652f3b1",
   "metadata": {},
   "outputs": [],
   "source": [
    "# ------------------------------\n",
    "# Asyncio\n",
    "# ------------------------------\n",
    "async def async_download_image(session, url, filename):\n",
    "    async with session.get(url) as resp:\n",
    "        content = await resp.read()\n",
    "        with open(filename, \"wb\") as f:\n",
    "            f.write(content)\n",
    "    return f\"{filename} descargada\"\n",
    "\n",
    "async def download_with_asyncio():\n",
    "    async with aiohttp.ClientSession() as session:\n",
    "        tasks = [\n",
    "            async_download_image(session, url, f\"async_{i}.jpg\")\n",
    "            for i, url in enumerate(IMAGES)\n",
    "        ]\n",
    "        return await asyncio.gather(*tasks)"
   ]
  },
  {
   "cell_type": "code",
   "execution_count": 11,
   "id": "a5419374",
   "metadata": {},
   "outputs": [],
   "source": [
    "\n",
    "def medir_tiempo(func, is_async=False):\n",
    "    start = time.perf_counter()\n",
    "    \n",
    "    if is_async:\n",
    "        result = asyncio.run(func())\n",
    "    else:\n",
    "        result = func()\n",
    "    \n",
    "    end = time.perf_counter()\n",
    "    print(f\"\\n{func.__name__} terminó en {end - start:.2f} segundos\")\n",
    "    print(\"Resultados:\", result)\n",
    "    return result"
   ]
  },
  {
   "cell_type": "code",
   "execution_count": null,
   "id": "95e5d161",
   "metadata": {},
   "outputs": [
    {
     "name": "stdout",
     "output_type": "stream",
     "text": [
      "Comparación de concurrencia:\n",
      "\n"
     ]
    }
   ],
   "source": [
    "# ------------------------------\n",
    "print(\"Comparación de concurrencia:\\n\")\n",
    "\n",
    "medir_tiempo(download_with_multiprocessing)\n",
    "medir_tiempo(download_with_threads)\n",
    "medir_tiempo(download_with_asyncio, is_async=True)"
   ]
  }
 ],
 "metadata": {
  "kernelspec": {
   "display_name": "Python 3",
   "language": "python",
   "name": "python3"
  },
  "language_info": {
   "codemirror_mode": {
    "name": "ipython",
    "version": 3
   },
   "file_extension": ".py",
   "mimetype": "text/x-python",
   "name": "python",
   "nbconvert_exporter": "python",
   "pygments_lexer": "ipython3",
   "version": "3.11.5"
  }
 },
 "nbformat": 4,
 "nbformat_minor": 5
}
